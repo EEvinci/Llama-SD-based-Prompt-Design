{
 "cells": [
  {
   "cell_type": "markdown",
   "id": "5d4c2342-5b50-4a15-9638-397a7433c382",
   "metadata": {},
   "source": [
    "CrewAgent"
   ]
  },
  {
   "cell_type": "code",
   "execution_count": 1,
   "id": "8db938d0-a759-4bf4-b336-5bac79f9fe54",
   "metadata": {},
   "outputs": [],
   "source": [
    "import json"
   ]
  },
  {
   "cell_type": "code",
   "execution_count": 2,
   "id": "6563ca57-d07f-434b-a7a5-d5fd0082134d",
   "metadata": {},
   "outputs": [],
   "source": [
    "class BaseAgent:\n",
    "    def __init__(self):\n",
    "        pass\n",
    "    def formatPrompt(self, input_text, params={}):\n",
    "        return ('','',)\n",
    "\n",
    "    def parse(self, output_text, params={}):\n",
    "        return {}"
   ]
  },
  {
   "cell_type": "code",
   "execution_count": 3,
   "id": "a03a62f6-59d8-45c3-9334-8af301e8ef52",
   "metadata": {},
   "outputs": [],
   "source": [
    "class SimpleAgent(BaseAgent):\n",
    "    def __init__(self):\n",
    "        self._context = '''\n",
    "You are an advertising creative design expert. Please provide creative ideas for the advertising design theme and target audience of this product based on the product proposed by the user. The design needs to meet the following requirements:\n",
    "1. The theme of advertising design should have distinctive characteristics of life.\n",
    "2. The target audience should be refined to specific groups of people\n",
    "3. Creative ideas focus on picture style design suggestions\n",
    "\n",
    "Examples are as follows:\n",
    "     Input: 草莓果汁宣传效果图\n",
    "     Output:\n",
    "     {\n",
    "        \"Themes\": [\n",
    "            {\n",
    "                \"Theme\": \"$\",\n",
    "                \"Target\": \"$\",\n",
    "                \"Creative_ideas\": {\n",
    "                    \"Picture_style\": \"$\",\n",
    "                    \"Design_concept\": \"$\"\n",
    "                }\n",
    "            }\n",
    "        ]\n",
    "\t}\n",
    "\n",
    "I use the $ symbol to represent the content you need to fill, and the entire content is output in json format.\n",
    "\n",
    "'''\n",
    "\n",
    "    def formatPrompt(self, input_text, params={}):\n",
    "        return (self._context, \"The product proposed by the user is: \\\"{}\\\". Please make 3 creative designs based on user input products. All content needs to be displayed in Chinese!!!All content needs to be displayed in Chinese! No Explanation.\".format(input_text),)\n",
    "\n",
    "    def parse(self, output_text, params={}):\n",
    "        start_pos = output_text.find(\"{\")\n",
    "        end_pos = output_text.rfind(\"}\")\n",
    "\n",
    "        # print(output_text[start_pos:end_pos + 1])\n",
    "        try:\n",
    "            output_json = json.loads(output_text[start_pos:end_pos + 1])\n",
    "            return output_json\n",
    "        except Exception as e:\n",
    "            return {}"
   ]
  },
  {
   "cell_type": "code",
   "execution_count": 4,
   "id": "62a0beec-6e5c-4d2e-9da1-5e71560f023d",
   "metadata": {},
   "outputs": [
    {
     "name": "stdout",
     "output_type": "stream",
     "text": [
      "\n",
      "You are an advertising creative design expert. Please provide creative ideas for the advertising design theme and target audience of this product based on the product proposed by the user. The design needs to meet the following requirements:\n",
      "1. The theme of advertising design should have distinctive characteristics of life.\n",
      "2. The target audience should be refined to specific groups of people\n",
      "3. Creative ideas focus on picture style design suggestions\n",
      "\n",
      "Examples are as follows:\n",
      "     Input: 草莓果汁宣传效果图\n",
      "     Output:\n",
      "     {\n",
      "        \"Themes\": [\n",
      "            {\n",
      "                \"Theme\": \"$\",\n",
      "                \"Target\": \"$\",\n",
      "                \"Creative_ideas\": {\n",
      "                    \"Picture_style\": \"$\",\n",
      "                    \"Design_concept\": \"$\"\n",
      "                }\n",
      "            }\n",
      "        ]\n",
      "\t}\n",
      "\n",
      "I use the $ symbol to represent the content you need to fill, and the entire content is output in json format.\n",
      "\n",
      "\n",
      "The product proposed by the user is: \"牛油果手提袋宣传图设计\". Please make 3 creative designs based on user input products. All content needs to be displayed in Chinese!!!All content needs to be displayed in Chinese! No Explanation.\n"
     ]
    }
   ],
   "source": [
    "agent = SimpleAgent()\n",
    "_context, _instruction =agent.formatPrompt('牛油果手提袋宣传图设计')\n",
    "print(_context)\n",
    "print(_instruction)"
   ]
  },
  {
   "cell_type": "code",
   "execution_count": 5,
   "id": "ea125cdc-adc6-4a4e-8e1a-183fccad7d91",
   "metadata": {},
   "outputs": [],
   "source": [
    "output_text = '''\n",
    "以下是三种创意设计方案\n",
    "{\n",
    "    \"Themes\": [\n",
    "        {\n",
    "            \"Theme\": \"时尚\",\n",
    "            \"Target\": \"城市年轻人\",\n",
    "            \"Creative_ideas\": {\n",
    "                \"Picture_style\": \"拍摄现实生活场景，如街头、咖啡馆、商场等，展示牛油果手提袋在各种场合的实用性和时尚感。\",\n",
    "                \"Design_concept\": \"突出产品的独特设计和材质，通过拍摄多角度的照片，展示牛油果手提袋的独特魅力，同时加入时尚元素，如流行服饰和配件，以吸引城市年轻人的关注。\"\n",
    "            }\n",
    "        },\n",
    "        {\n",
    "            \"Theme\": \"户外\",\n",
    "            \"Target\": \"户外爱好者\",\n",
    "            \"Creative_ideas\": {\n",
    "                \"Picture_style\": \"拍摄户外环境，如山丘、海滩、森林等，展示牛油果手提袋在户外活动中的实用性和适应性。\",\n",
    "                \"Design_concept\": \"突出产品的耐用性和防水性能，通过拍摄户外活动场景，展示牛油果手提袋在各种恶劣环境下的表现，以吸引户外爱好者的关注。\"\n",
    "            }\n",
    "        },\n",
    "        {\n",
    "            \"Theme\": \"简约\",\n",
    "            \"Target\": \"简约追求者\",\n",
    "            \"Creative_ideas\": {\n",
    "                \"Picture_style\": \"简洁、清新的风格，通过对比牛油果手提袋与其他简约产品的运用场景，展示产品在简约生活中的价值。\",\n",
    "                \"Design_concept\": \"突出产品的简约设计和轻便性，通过以简约风格为主的拍摄，展示牛油果手提袋在日常生活中的实用性，以吸引简约追求者的关注。\"\n",
    "            }\n",
    "        }\n",
    "    ]\n",
    "}\n",
    "\n",
    "以上是三种创意设计方案\n",
    "'''"
   ]
  },
  {
   "cell_type": "code",
   "execution_count": 6,
   "id": "014837ae-2d10-49d8-a24f-c83ff0372fcd",
   "metadata": {},
   "outputs": [
    {
     "name": "stdout",
     "output_type": "stream",
     "text": [
      "{'Themes': [{'Theme': '时尚', 'Target': '城市年轻人', 'Creative_ideas': {'Picture_style': '拍摄现实生活场景，如街头、咖啡馆、商场等，展示牛油果手提袋在各种场合的实用性和时尚感。', 'Design_concept': '突出产品的独特设计和材质，通过拍摄多角度的照片，展示牛油果手提袋的独特魅力，同时加入时尚元素，如流行服饰和配件，以吸引城市年轻人的关注。'}}, {'Theme': '户外', 'Target': '户外爱好者', 'Creative_ideas': {'Picture_style': '拍摄户外环境，如山丘、海滩、森林等，展示牛油果手提袋在户外活动中的实用性和适应性。', 'Design_concept': '突出产品的耐用性和防水性能，通过拍摄户外活动场景，展示牛油果手提袋在各种恶劣环境下的表现，以吸引户外爱好者的关注。'}}, {'Theme': '简约', 'Target': '简约追求者', 'Creative_ideas': {'Picture_style': '简洁、清新的风格，通过对比牛油果手提袋与其他简约产品的运用场景，展示产品在简约生活中的价值。', 'Design_concept': '突出产品的简约设计和轻便性，通过以简约风格为主的拍摄，展示牛油果手提袋在日常生活中的实用性，以吸引简约追求者的关注。'}}]}\n"
     ]
    }
   ],
   "source": [
    "print(agent.parse(output_text))"
   ]
  },
  {
   "cell_type": "code",
   "execution_count": 7,
   "id": "bdedb3c2-82d9-4481-bb99-41c4e98e2be0",
   "metadata": {},
   "outputs": [
    {
     "name": "stdout",
     "output_type": "stream",
     "text": [
      "Picture Style: 拍摄现实生活场景，如街头、咖啡馆、商场等，展示牛油果手提袋在各种场合的实用性和时尚感。\n",
      "Design Concept: 突出产品的独特设计和材质，通过拍摄多角度的照片，展示牛油果手提袋的独特魅力，同时加入时尚元素，如流行服饰和配件，以吸引城市年轻人的关注。\n",
      "---------------\n",
      "Picture Style: 拍摄户外环境，如山丘、海滩、森林等，展示牛油果手提袋在户外活动中的实用性和适应性。\n",
      "Design Concept: 突出产品的耐用性和防水性能，通过拍摄户外活动场景，展示牛油果手提袋在各种恶劣环境下的表现，以吸引户外爱好者的关注。\n",
      "---------------\n",
      "Picture Style: 简洁、清新的风格，通过对比牛油果手提袋与其他简约产品的运用场景，展示产品在简约生活中的价值。\n",
      "Design Concept: 突出产品的简约设计和轻便性，通过以简约风格为主的拍摄，展示牛油果手提袋在日常生活中的实用性，以吸引简约追求者的关注。\n",
      "---------------\n"
     ]
    }
   ],
   "source": [
    "### 提取创意设计方案中的设计理念\n",
    "def combine_creative_ideas(data_json):\n",
    "    combined_ideas = []\n",
    "\n",
    "    # 遍历并合并信息\n",
    "    for theme in data_json[\"Themes\"]:\n",
    "        creative_ideas = theme[\"Creative_ideas\"]\n",
    "        picture_style = creative_ideas[\"Picture_style\"]\n",
    "        design_concept = creative_ideas[\"Design_concept\"]\n",
    "        combined_text = f\"Picture Style: {picture_style}\\nDesign Concept: {design_concept}\"\n",
    "        combined_ideas.append(combined_text)\n",
    "\n",
    "    return combined_ideas\n",
    "\n",
    "# 假设 agent.parse 是您定义的函数，用于解析 output_text 中的 JSON 数据\n",
    "parsed_data = agent.parse(output_text)\n",
    "\n",
    "# 调用函数并获取结果\n",
    "combined_ideas_list = combine_creative_ideas(parsed_data)\n",
    "\n",
    "# 输出合并后的结果，这里仅作展示用\n",
    "for idea in combined_ideas_list:\n",
    "    print(idea)\n",
    "    print(\"---------------\")\n"
   ]
  },
  {
   "cell_type": "code",
   "execution_count": 8,
   "id": "cf50918a-8f83-475f-8656-b050f7f0159e",
   "metadata": {},
   "outputs": [
    {
     "name": "stdout",
     "output_type": "stream",
     "text": [
      "\n",
      "\n",
      "\n",
      "Picture Style: 拍摄现实生活场景，如街头、咖啡馆、商场等，展示牛油果手提袋在各种场合的实用性和时尚感。\n",
      "Design Concept: 突出产品的独特设计和材质，通过拍摄多角度的照片，展示牛油果手提袋的独特魅力，同时加入时尚元素，如流行服饰和配件，以吸引城市年轻人的关注。\n",
      "---------------\n",
      "\n",
      "\n",
      "\n",
      "Picture Style: 拍摄户外环境，如山丘、海滩、森林等，展示牛油果手提袋在户外活动中的实用性和适应性。\n",
      "Design Concept: 突出产品的耐用性和防水性能，通过拍摄户外活动场景，展示牛油果手提袋在各种恶劣环境下的表现，以吸引户外爱好者的关注。\n",
      "---------------\n",
      "\n",
      "\n",
      "\n",
      "Picture Style: 简洁、清新的风格，通过对比牛油果手提袋与其他简约产品的运用场景，展示产品在简约生活中的价值。\n",
      "Design Concept: 突出产品的简约设计和轻便性，通过以简约风格为主的拍摄，展示牛油果手提袋在日常生活中的实用性，以吸引简约追求者的关注。\n",
      "---------------\n"
     ]
    }
   ],
   "source": [
    "### 将设计理念插入初始背景信息得到绘画context\n",
    "def create_drawing_context(ideas_list, context):\n",
    "    drawing_prompts = []\n",
    "\n",
    "    for idea in ideas_list:\n",
    "        # 将每个主题的描述分割为 Picture Style 和 Design Concept\n",
    "        parts = idea.split('\\n')\n",
    "        picture_style = parts[0] if len(parts) > 0 else \"\"\n",
    "        design_concept = parts[1] if len(parts) > 1 else \"\"\n",
    "\n",
    "        # 将 Picture Style 和 Design Concept 与 context 结合\n",
    "        prompt = f\"{context}\\n{picture_style}\\n{design_concept}\"\n",
    "        drawing_prompts.append(prompt)\n",
    "\n",
    "    return drawing_prompts\n",
    "\n",
    "# 假设 combined_ideas_list 是之前您得到的列表\n",
    "# 假设 context 是您要嵌入的绘画 Prompt 背景信息\n",
    "# context = \"这是一幅关于牛油果手提袋的画，其主题和设计理念包括：\"\n",
    "context = \"\"\"\n",
    "\n",
    "\"\"\"\n",
    "\n",
    "# 调用函数生成绘画 Prompts\n",
    "drawing_prompts = create_drawing_context(combined_ideas_list, context)\n",
    "\n",
    "# 打印生成的绘画 Prompts\n",
    "for prompt in drawing_prompts:\n",
    "    print(prompt)\n",
    "    print(\"---------------\")\n"
   ]
  },
  {
   "cell_type": "code",
   "execution_count": null,
   "id": "e907c540-2ee6-40c6-878e-118a20dabcfb",
   "metadata": {},
   "outputs": [],
   "source": []
  },
  {
   "cell_type": "code",
   "execution_count": null,
   "id": "25d35853-987e-4f7b-ae08-2a29d13a322f",
   "metadata": {},
   "outputs": [],
   "source": []
  }
 ],
 "metadata": {
  "kernelspec": {
   "display_name": "Python 3 (ipykernel)",
   "language": "python",
   "name": "python3"
  },
  "language_info": {
   "codemirror_mode": {
    "name": "ipython",
    "version": 3
   },
   "file_extension": ".py",
   "mimetype": "text/x-python",
   "name": "python",
   "nbconvert_exporter": "python",
   "pygments_lexer": "ipython3",
   "version": "3.10.13"
  }
 },
 "nbformat": 4,
 "nbformat_minor": 5
}
