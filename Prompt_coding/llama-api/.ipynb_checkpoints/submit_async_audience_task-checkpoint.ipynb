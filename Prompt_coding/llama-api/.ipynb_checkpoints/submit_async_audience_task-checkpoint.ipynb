{
 "cells": [
  {
   "cell_type": "code",
   "execution_count": 1,
   "metadata": {},
   "outputs": [],
   "source": [
    "import requests"
   ]
  },
  {
   "cell_type": "code",
   "execution_count": 2,
   "metadata": {},
   "outputs": [],
   "source": [
    "# Define the URL\n",
    "url = \"http://192.168.2.98:9003/async_audience/submit_task\""
   ]
  },
  {
   "cell_type": "code",
   "execution_count": 3,
   "metadata": {},
   "outputs": [],
   "source": [
    "# Function to check server status\n",
    "def check_server_status(url):\n",
    "    try:\n",
    "        response = requests.get(url)\n",
    "        if response.status_code == 200:\n",
    "            print(\"Server is up and running.\")\n",
    "        else:\n",
    "            print(f\"Server responded with status code: {response.status_code}\")\n",
    "    except requests.ConnectionError:\n",
    "        print(\"Failed to connect to the server.\")\n",
    "    except Exception as e:\n",
    "        print(f\"An error occurred: {e}\")"
   ]
  },
  {
   "cell_type": "code",
   "execution_count": 4,
   "metadata": {},
   "outputs": [],
   "source": [
    "# Function to send POST request\n",
    "def send_post_request(url, data):\n",
    "    try:\n",
    "        response = requests.post(url, json=data)\n",
    "        response.raise_for_status()  # Raise an HTTPError for bad responses\n",
    "        return response\n",
    "    except requests.exceptions.HTTPError as http_err:\n",
    "        print(f\"HTTP error occurred: {http_err}\")\n",
    "    except Exception as err:\n",
    "        print(f\"An error occurred: {err}\")"
   ]
  },
  {
   "cell_type": "code",
   "execution_count": 5,
   "metadata": {},
   "outputs": [],
   "source": [
    "# Construct the JSON data\n",
    "data = {\n",
    "    \"copilot_id\": \"pkgagent\",\n",
    "    \"instruction\": \"apple bottle design\",  # Set the product name directly here\n",
    "    \"style\": \"3d cartoon\",\n",
    "    \"params\": {\n",
    "        \"theme\": \"时尚復古\",\n",
    "        \"Picture_style\": \"使用油画风格的图案，展现牛油果的纯天然色彩，同时加入復古的边缘效果，增加时尚感。\",\n",
    "        \"Design_concept\": \"以牛油果为主题，结合復古元素，呈现出一种极具个性的时尚质感，引领潮流。\"\n",
    "    }\n",
    "}\n"
   ]
  },
  {
   "cell_type": "code",
   "execution_count": 6,
   "metadata": {},
   "outputs": [
    {
     "name": "stdout",
     "output_type": "stream",
     "text": [
      "Failed to connect to the server.\n"
     ]
    }
   ],
   "source": [
    "# Check server status\n",
    "check_server_status(url)"
   ]
  },
  {
   "cell_type": "code",
   "execution_count": 7,
   "metadata": {},
   "outputs": [
    {
     "name": "stdout",
     "output_type": "stream",
     "text": [
      "An error occurred: HTTPConnectionPool(host='192.168.2.98', port=9003): Max retries exceeded with url: /async_audience/submit_task (Caused by ConnectTimeoutError(<urllib3.connection.HTTPConnection object at 0x000001F0E23E1120>, 'Connection to 192.168.2.98 timed out. (connect timeout=None)'))\n"
     ]
    }
   ],
   "source": [
    "# Send the POST request and get the response\n",
    "response = send_post_request(url, data)\n",
    "\n",
    "# Check if the response is valid and print the result\n",
    "if response:\n",
    "    print(f\"Success! Response status code: {response.status_code}\")\n",
    "    print(\"Response content:\", response.text)"
   ]
  },
  {
   "cell_type": "code",
   "execution_count": 8,
   "metadata": {},
   "outputs": [
    {
     "ename": "ModuleNotFoundError",
     "evalue": "No module named 'torch'",
     "output_type": "error",
     "traceback": [
      "\u001b[1;31m---------------------------------------------------------------------------\u001b[0m",
      "\u001b[1;31mModuleNotFoundError\u001b[0m                       Traceback (most recent call last)",
      "Cell \u001b[1;32mIn[8], line 1\u001b[0m\n\u001b[1;32m----> 1\u001b[0m \u001b[38;5;28;01mimport\u001b[39;00m \u001b[38;5;21;01mtorch\u001b[39;00m\n\u001b[0;32m      2\u001b[0m \u001b[38;5;28mprint\u001b[39m(torch\u001b[38;5;241m.\u001b[39m__version__)\n\u001b[0;32m      4\u001b[0m \u001b[38;5;28mprint\u001b[39m(torch\u001b[38;5;241m.\u001b[39mversion\u001b[38;5;241m.\u001b[39mcuda)\n",
      "\u001b[1;31mModuleNotFoundError\u001b[0m: No module named 'torch'"
     ]
    }
   ],
   "source": [
    "import torch\n",
    "print(torch.__version__)\n",
    "\n",
    "print(torch.version.cuda)\n",
    "print(torch.backends.cudnn.version())"
   ]
  },
  {
   "cell_type": "code",
   "execution_count": null,
   "metadata": {},
   "outputs": [],
   "source": []
  }
 ],
 "metadata": {
  "kernelspec": {
   "display_name": "jpt",
   "language": "python",
   "name": "python3"
  },
  "language_info": {
   "codemirror_mode": {
    "name": "ipython",
    "version": 3
   },
   "file_extension": ".py",
   "mimetype": "text/x-python",
   "name": "python",
   "nbconvert_exporter": "python",
   "pygments_lexer": "ipython3",
   "version": "3.10.13"
  }
 },
 "nbformat": 4,
 "nbformat_minor": 2
}
