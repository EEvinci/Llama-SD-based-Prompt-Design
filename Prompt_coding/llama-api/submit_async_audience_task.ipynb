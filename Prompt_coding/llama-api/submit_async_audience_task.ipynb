{
 "cells": [
  {
   "cell_type": "code",
   "execution_count": 6,
   "metadata": {},
   "outputs": [],
   "source": [
    "import requests\n",
    "\n",
    "# Define the URL\n",
    "url = \"http://192.168.2.98:9003/async_audience/submit_task\"\n",
    "\n",
    "# Function to check server status\n",
    "def check_server_status(url):\n",
    "    try:\n",
    "        response = requests.get(url)\n",
    "        if response.status_code == 200:\n",
    "            print(\"Server is up and running.\")\n",
    "        else:\n",
    "            print(f\"Server responded with status code: {response.status_code}\")\n",
    "    except requests.ConnectionError:\n",
    "        print(\"Failed to connect to the server.\")\n",
    "    except Exception as e:\n",
    "        print(f\"An error occurred: {e}\")\n",
    "\n",
    "# Function to send POST request\n",
    "def send_post_request(url, data):\n",
    "    try:\n",
    "        response = requests.post(url, json=data)\n",
    "        response.raise_for_status()  # Raise an HTTPError for bad responses\n",
    "        return response\n",
    "    except requests.exceptions.HTTPError as http_err:\n",
    "        print(f\"HTTP error occurred: {http_err}\")\n",
    "    except Exception as err:\n",
    "        print(f\"An error occurred: {err}\")"
   ]
  },
  {
   "cell_type": "code",
   "execution_count": 7,
   "metadata": {},
   "outputs": [
    {
     "name": "stdout",
     "output_type": "stream",
     "text": [
      "Server responded with status code: 405\n"
     ]
    }
   ],
   "source": [
    "# Check server status\n",
    "check_server_status(url)"
   ]
  },
  {
   "cell_type": "code",
   "execution_count": 8,
   "metadata": {},
   "outputs": [
    {
     "name": "stdout",
     "output_type": "stream",
     "text": [
      "Success! Response status code: 200\n",
      "Response content: {\"msg\":\"OK\",\"code\":0,\"data\":{\"taskId\":\"fb1fdb1a-8dc3-401b-a40d-40b7ba81e7a01298777105899350\"}}\n"
     ]
    }
   ],
   "source": [
    "# Construct the JSON data\n",
    "data = {\n",
    "    \"copilot_id\": \"pkgagent\",\n",
    "    \"instruction\": \"apple bottle design\",  # Set the product name directly here\n",
    "    \"style\": \"3d cartoon\",\n",
    "    \"params\": {\n",
    "        \"theme\": \"时尚復古\",\n",
    "        \"Picture_style\": \"使用油画风格的图案，展现牛油果的纯天然色彩，同时加入復古的边缘效果，增加时尚感。\",\n",
    "        \"Design_concept\": \"以牛油果为主题，结合復古元素，呈现出一种极具个性的时尚质感，引领潮流。\"\n",
    "    }\n",
    "}\n",
    "\n",
    "# Send the POST request and get the response\n",
    "response = send_post_request(url, data)\n",
    "\n",
    "# Check if the response is valid and print the result\n",
    "if response:\n",
    "    print(f\"Success! Response status code: {response.status_code}\")\n",
    "    print(\"Response content:\", response.text)"
   ]
  },
  {
   "cell_type": "code",
   "execution_count": 9,
   "metadata": {},
   "outputs": [
    {
     "name": "stdout",
     "output_type": "stream",
     "text": [
      "Error: 405\n"
     ]
    }
   ],
   "source": [
    "import requests\n",
    "\n",
    "def get_product_params(product_name):\n",
    "    # Define the API endpoint\n",
    "    api_endpoint = \"http://192.168.2.98:9003/async_audience/submit_task\"\n",
    "    \n",
    "    # Make a GET request to the API with the product name\n",
    "    response = requests.get(api_endpoint, params={'instruction': product_name})\n",
    "    \n",
    "    # Check if the request was successful\n",
    "    if response.status_code == 200:\n",
    "        # Parse the JSON response\n",
    "        data = response.json()\n",
    "        \n",
    "        # Extract the 'params' field\n",
    "        params = data.get('params', {})\n",
    "        \n",
    "        # Return the 'params' dictionary\n",
    "        return params\n",
    "    else:\n",
    "        # Handle errors (e.g., API is down, bad request, etc.)\n",
    "        return f\"Error: {response.status_code}\"\n",
    "\n",
    "# Example usage\n",
    "product_params = get_product_params(\"草莓手提袋设计\")\n",
    "print(product_params)\n"
   ]
  }
 ],
 "metadata": {
  "kernelspec": {
   "display_name": "jpt",
   "language": "python",
   "name": "python3"
  },
  "language_info": {
   "codemirror_mode": {
    "name": "ipython",
    "version": 3
   },
   "file_extension": ".py",
   "mimetype": "text/x-python",
   "name": "python",
   "nbconvert_exporter": "python",
   "pygments_lexer": "ipython3",
   "version": "3.10.13"
  }
 },
 "nbformat": 4,
 "nbformat_minor": 2
}
